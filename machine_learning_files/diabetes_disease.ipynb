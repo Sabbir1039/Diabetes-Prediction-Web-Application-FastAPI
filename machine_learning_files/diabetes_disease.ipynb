{
 "cells": [
  {
   "cell_type": "code",
   "execution_count": 1,
   "metadata": {
    "executionInfo": {
     "elapsed": 756,
     "status": "ok",
     "timestamp": 1718007241777,
     "user": {
      "displayName": "Sabbir Hossain",
      "userId": "13090968094455257108"
     },
     "user_tz": -360
    },
    "id": "xOXArmp5Asq_"
   },
   "outputs": [],
   "source": [
    "import pandas as pd\n",
    "import numpy as np\n",
    "from sklearn.model_selection import train_test_split, cross_val_score\n",
    "from sklearn.metrics import accuracy_score, confusion_matrix, precision_score, recall_score, f1_score, roc_auc_score\n",
    "from sklearn.ensemble import RandomForestClassifier\n",
    "from sklearn.pipeline import make_pipeline\n",
    "from sklearn.preprocessing import StandardScaler\n",
    "import xgboost as xgb\n",
    "from imblearn.over_sampling import RandomOverSampler\n",
    "from imblearn.under_sampling import RandomUnderSampler\n",
    "from sklearn.model_selection import StratifiedKFold\n",
    "import pickle"
   ]
  },
  {
   "cell_type": "code",
   "execution_count": 2,
   "metadata": {
    "executionInfo": {
     "elapsed": 29,
     "status": "ok",
     "timestamp": 1718007243228,
     "user": {
      "displayName": "Sabbir Hossain",
      "userId": "13090968094455257108"
     },
     "user_tz": -360
    },
    "id": "mfYPlBKPA-Tk"
   },
   "outputs": [],
   "source": [
    "# loading the diabetes dataset\n",
    "dataset = pd.read_csv('diabetes.csv')"
   ]
  },
  {
   "cell_type": "code",
   "execution_count": 3,
   "metadata": {
    "colab": {
     "base_uri": "https://localhost:8080/"
    },
    "executionInfo": {
     "elapsed": 26,
     "status": "ok",
     "timestamp": 1718007243228,
     "user": {
      "displayName": "Sabbir Hossain",
      "userId": "13090968094455257108"
     },
     "user_tz": -360
    },
    "id": "ASA8miYmBC_u",
    "outputId": "08a36cac-8da8-49fb-a328-cc085d40aae9"
   },
   "outputs": [
    {
     "name": "stdout",
     "output_type": "stream",
     "text": [
      "(768, 9)\n"
     ]
    }
   ],
   "source": [
    "print(dataset.shape)"
   ]
  },
  {
   "cell_type": "code",
   "execution_count": 4,
   "metadata": {
    "colab": {
     "base_uri": "https://localhost:8080/",
     "height": 206
    },
    "executionInfo": {
     "elapsed": 21,
     "status": "ok",
     "timestamp": 1718007243229,
     "user": {
      "displayName": "Sabbir Hossain",
      "userId": "13090968094455257108"
     },
     "user_tz": -360
    },
    "id": "YRs9_oDZBJ2W",
    "outputId": "f03a0503-af58-49dd-c6c9-88bb77f5a67a"
   },
   "outputs": [
    {
     "data": {
      "text/html": [
       "<div>\n",
       "<style scoped>\n",
       "    .dataframe tbody tr th:only-of-type {\n",
       "        vertical-align: middle;\n",
       "    }\n",
       "\n",
       "    .dataframe tbody tr th {\n",
       "        vertical-align: top;\n",
       "    }\n",
       "\n",
       "    .dataframe thead th {\n",
       "        text-align: right;\n",
       "    }\n",
       "</style>\n",
       "<table border=\"1\" class=\"dataframe\">\n",
       "  <thead>\n",
       "    <tr style=\"text-align: right;\">\n",
       "      <th></th>\n",
       "      <th>Pregnancies</th>\n",
       "      <th>Glucose</th>\n",
       "      <th>BloodPressure</th>\n",
       "      <th>SkinThickness</th>\n",
       "      <th>Insulin</th>\n",
       "      <th>BMI</th>\n",
       "      <th>DiabetesPedigreeFunction</th>\n",
       "      <th>Age</th>\n",
       "      <th>Outcome</th>\n",
       "    </tr>\n",
       "  </thead>\n",
       "  <tbody>\n",
       "    <tr>\n",
       "      <th>763</th>\n",
       "      <td>10</td>\n",
       "      <td>101</td>\n",
       "      <td>76</td>\n",
       "      <td>48</td>\n",
       "      <td>180</td>\n",
       "      <td>32.9</td>\n",
       "      <td>0.171</td>\n",
       "      <td>63</td>\n",
       "      <td>0</td>\n",
       "    </tr>\n",
       "    <tr>\n",
       "      <th>764</th>\n",
       "      <td>2</td>\n",
       "      <td>122</td>\n",
       "      <td>70</td>\n",
       "      <td>27</td>\n",
       "      <td>0</td>\n",
       "      <td>36.8</td>\n",
       "      <td>0.340</td>\n",
       "      <td>27</td>\n",
       "      <td>0</td>\n",
       "    </tr>\n",
       "    <tr>\n",
       "      <th>765</th>\n",
       "      <td>5</td>\n",
       "      <td>121</td>\n",
       "      <td>72</td>\n",
       "      <td>23</td>\n",
       "      <td>112</td>\n",
       "      <td>26.2</td>\n",
       "      <td>0.245</td>\n",
       "      <td>30</td>\n",
       "      <td>0</td>\n",
       "    </tr>\n",
       "    <tr>\n",
       "      <th>766</th>\n",
       "      <td>1</td>\n",
       "      <td>126</td>\n",
       "      <td>60</td>\n",
       "      <td>0</td>\n",
       "      <td>0</td>\n",
       "      <td>30.1</td>\n",
       "      <td>0.349</td>\n",
       "      <td>47</td>\n",
       "      <td>1</td>\n",
       "    </tr>\n",
       "    <tr>\n",
       "      <th>767</th>\n",
       "      <td>1</td>\n",
       "      <td>93</td>\n",
       "      <td>70</td>\n",
       "      <td>31</td>\n",
       "      <td>0</td>\n",
       "      <td>30.4</td>\n",
       "      <td>0.315</td>\n",
       "      <td>23</td>\n",
       "      <td>0</td>\n",
       "    </tr>\n",
       "  </tbody>\n",
       "</table>\n",
       "</div>"
      ],
      "text/plain": [
       "     Pregnancies  Glucose  BloodPressure  SkinThickness  Insulin   BMI  \\\n",
       "763           10      101             76             48      180  32.9   \n",
       "764            2      122             70             27        0  36.8   \n",
       "765            5      121             72             23      112  26.2   \n",
       "766            1      126             60              0        0  30.1   \n",
       "767            1       93             70             31        0  30.4   \n",
       "\n",
       "     DiabetesPedigreeFunction  Age  Outcome  \n",
       "763                     0.171   63        0  \n",
       "764                     0.340   27        0  \n",
       "765                     0.245   30        0  \n",
       "766                     0.349   47        1  \n",
       "767                     0.315   23        0  "
      ]
     },
     "execution_count": 4,
     "metadata": {},
     "output_type": "execute_result"
    }
   ],
   "source": [
    "dataset.tail()"
   ]
  },
  {
   "cell_type": "code",
   "execution_count": 5,
   "metadata": {
    "executionInfo": {
     "elapsed": 17,
     "status": "ok",
     "timestamp": 1718007243229,
     "user": {
      "displayName": "Sabbir Hossain",
      "userId": "13090968094455257108"
     },
     "user_tz": -360
    },
    "id": "Cue-RWByBM3x"
   },
   "outputs": [],
   "source": [
    "# separating the data and labels\n",
    "X = dataset.drop(columns = 'Outcome', axis=1)\n",
    "y = dataset['Outcome']"
   ]
  },
  {
   "cell_type": "code",
   "execution_count": 6,
   "metadata": {
    "colab": {
     "base_uri": "https://localhost:8080/"
    },
    "executionInfo": {
     "elapsed": 16,
     "status": "ok",
     "timestamp": 1718007243229,
     "user": {
      "displayName": "Sabbir Hossain",
      "userId": "13090968094455257108"
     },
     "user_tz": -360
    },
    "id": "ZZxL-aQdBQbz",
    "outputId": "18af5512-6b9a-489d-822c-fa88b7c80017"
   },
   "outputs": [
    {
     "name": "stdout",
     "output_type": "stream",
     "text": [
      "(768, 8)\n",
      "(768,)\n"
     ]
    }
   ],
   "source": [
    "print(X.shape)\n",
    "print(y.shape)"
   ]
  },
  {
   "cell_type": "code",
   "execution_count": 7,
   "metadata": {
    "executionInfo": {
     "elapsed": 12,
     "status": "ok",
     "timestamp": 1718007243230,
     "user": {
      "displayName": "Sabbir Hossain",
      "userId": "13090968094455257108"
     },
     "user_tz": -360
    },
    "id": "mFYrZYE0BSZB"
   },
   "outputs": [],
   "source": [
    "# Handle imbalanced data\n",
    "oversampler = RandomOverSampler(random_state=42)\n",
    "X_resampled, y_resampled = oversampler.fit_resample(X, y)"
   ]
  },
  {
   "cell_type": "code",
   "execution_count": 8,
   "metadata": {
    "executionInfo": {
     "elapsed": 17,
     "status": "ok",
     "timestamp": 1718007243890,
     "user": {
      "displayName": "Sabbir Hossain",
      "userId": "13090968094455257108"
     },
     "user_tz": -360
    },
    "id": "VHGLaYj6BVFp"
   },
   "outputs": [],
   "source": [
    "X_train, X_test, y_train, y_test = train_test_split(X_resampled, y_resampled, test_size=0.2, random_state=42)"
   ]
  },
  {
   "cell_type": "code",
   "execution_count": 9,
   "metadata": {
    "executionInfo": {
     "elapsed": 17,
     "status": "ok",
     "timestamp": 1718007243891,
     "user": {
      "displayName": "Sabbir Hossain",
      "userId": "13090968094455257108"
     },
     "user_tz": -360
    },
    "id": "ZFNgWR1gBX5K"
   },
   "outputs": [],
   "source": [
    "# Define classifiers\n",
    "classifiers = RandomForestClassifier()\n",
    "# Training and evaluating each classifier\n",
    "model = make_pipeline(StandardScaler(), classifiers)"
   ]
  },
  {
   "cell_type": "code",
   "execution_count": 10,
   "metadata": {
    "colab": {
     "base_uri": "https://localhost:8080/"
    },
    "executionInfo": {
     "elapsed": 825,
     "status": "ok",
     "timestamp": 1718007244700,
     "user": {
      "displayName": "Sabbir Hossain",
      "userId": "13090968094455257108"
     },
     "user_tz": -360
    },
    "id": "Bt920_njBckT",
    "outputId": "b82e3983-5f18-46c8-ba33-98c9806cbcd6"
   },
   "outputs": [
    {
     "name": "stdout",
     "output_type": "stream",
     "text": [
      "cross_val_score: [0.83125 0.8625  0.85625 0.85    0.83125]\n"
     ]
    }
   ],
   "source": [
    "# Cross-validation\n",
    "cv_scores = cross_val_score(model, X_train, y_train, cv=5, scoring='accuracy')\n",
    "print(f\"cross_val_score: {cv_scores}\")\n",
    "mean_cv_accuracy = np.mean(cv_scores)"
   ]
  },
  {
   "cell_type": "code",
   "execution_count": 11,
   "metadata": {
    "executionInfo": {
     "elapsed": 698,
     "status": "ok",
     "timestamp": 1718007245386,
     "user": {
      "displayName": "Sabbir Hossain",
      "userId": "13090968094455257108"
     },
     "user_tz": -360
    },
    "id": "QEGK7rjoBoq_"
   },
   "outputs": [],
   "source": [
    "# Fitting the model\n",
    "model.fit(X_train, y_train)\n",
    "y_pred = model.predict(X_test)\n",
    "y_prob = model.predict_proba(X_test)[:, 1]"
   ]
  },
  {
   "cell_type": "code",
   "execution_count": 12,
   "metadata": {
    "executionInfo": {
     "elapsed": 41,
     "status": "ok",
     "timestamp": 1718007245387,
     "user": {
      "displayName": "Sabbir Hossain",
      "userId": "13090968094455257108"
     },
     "user_tz": -360
    },
    "id": "iYSuV2gMBtIX"
   },
   "outputs": [],
   "source": [
    "# Calculating evaluation metrics\n",
    "accuracy = accuracy_score(y_test, y_pred)\n",
    "precision = precision_score(y_test, y_pred)\n",
    "recall = recall_score(y_test, y_pred)\n",
    "f1 = f1_score(y_test, y_pred)\n",
    "auc = roc_auc_score(y_test, y_prob)"
   ]
  },
  {
   "cell_type": "code",
   "execution_count": 13,
   "metadata": {
    "executionInfo": {
     "elapsed": 40,
     "status": "ok",
     "timestamp": 1718007245387,
     "user": {
      "displayName": "Sabbir Hossain",
      "userId": "13090968094455257108"
     },
     "user_tz": -360
    },
    "id": "-q2oOM0WBu_E"
   },
   "outputs": [],
   "source": [
    "# Confusion Matrix\n",
    "tn, fp, fn, tp = confusion_matrix(y_test, y_pred).ravel()\n",
    "sensitivity = tp / (tp + fn)\n",
    "specificity = tn / (tn + fp)"
   ]
  },
  {
   "cell_type": "code",
   "execution_count": 14,
   "metadata": {
    "colab": {
     "base_uri": "https://localhost:8080/"
    },
    "executionInfo": {
     "elapsed": 39,
     "status": "ok",
     "timestamp": 1718007245388,
     "user": {
      "displayName": "Sabbir Hossain",
      "userId": "13090968094455257108"
     },
     "user_tz": -360
    },
    "id": "u4ATPpXWBw_5",
    "outputId": "2853e211-c35e-4791-b392-df70d08520e9"
   },
   "outputs": [
    {
     "name": "stdout",
     "output_type": "stream",
     "text": [
      "Mean CV Accuracy: 84.62%\n",
      "Test Accuracy: 83.50%\n",
      "Precision: 80.91%\n",
      "Recall: 88.12%\n",
      "F1-score: 84.36%\n",
      "Sensitivity: 88.12%\n",
      "Specificity: 78.79%\n",
      "AUC: 0.9134\n"
     ]
    }
   ],
   "source": [
    "# Print the evaluation metrics\n",
    "print(f\"Mean CV Accuracy: {mean_cv_accuracy * 100:.2f}%\")\n",
    "print(f\"Test Accuracy: {accuracy * 100:.2f}%\")\n",
    "print(f\"Precision: {precision * 100:.2f}%\")\n",
    "print(f\"Recall: {recall * 100:.2f}%\")\n",
    "print(f\"F1-score: {f1 * 100:.2f}%\")\n",
    "print(f\"Sensitivity: {sensitivity * 100:.2f}%\")\n",
    "print(f\"Specificity: {specificity * 100:.2f}%\")\n",
    "print(f\"AUC: {auc:.4f}\")"
   ]
  },
  {
   "cell_type": "code",
   "execution_count": 15,
   "metadata": {
    "executionInfo": {
     "elapsed": 36,
     "status": "ok",
     "timestamp": 1718007245388,
     "user": {
      "displayName": "Sabbir Hossain",
      "userId": "13090968094455257108"
     },
     "user_tz": -360
    },
    "id": "0Kee5PRWBy_B"
   },
   "outputs": [],
   "source": [
    "filename = 'diabetes_model_RandomForestClassifier.sav'\n",
    "pickle.dump(model, open(filename, 'wb'))"
   ]
  },
  {
   "cell_type": "code",
   "execution_count": 16,
   "metadata": {
    "executionInfo": {
     "elapsed": 35,
     "status": "ok",
     "timestamp": 1718007245388,
     "user": {
      "displayName": "Sabbir Hossain",
      "userId": "13090968094455257108"
     },
     "user_tz": -360
    },
    "id": "QBSDp_maCnMa"
   },
   "outputs": [],
   "source": [
    "# Non diabetic patient sample data\n",
    "input_data1 = (5,\t121, 72, 23, 112, 26.2, 0.245, 30)\n",
    "input_data2 = (6,96, 0, 0, 0, 23.7, 0.19, 28)\n",
    "input_data3 = (0, 102, 78, 40, 90, 34.5, 0.238, 24)"
   ]
  },
  {
   "cell_type": "code",
   "execution_count": 17,
   "metadata": {
    "executionInfo": {
     "elapsed": 35,
     "status": "ok",
     "timestamp": 1718007245389,
     "user": {
      "displayName": "Sabbir Hossain",
      "userId": "13090968094455257108"
     },
     "user_tz": -360
    },
    "id": "wDLI0sWzDc7W"
   },
   "outputs": [],
   "source": [
    "# diabetic patient sample data\n",
    "input_data4 = (1, 167, 74, 17, 144, 23.4, 0.447, 33)\n",
    "input_data5 = (11, 136, 84, 35, 130, 28.3, 0.26, 42)\n",
    "input_data6 = (2, 155, 52, 27, 540, 38.7, 0.24, 25)"
   ]
  },
  {
   "cell_type": "code",
   "execution_count": 19,
   "metadata": {
    "colab": {
     "base_uri": "https://localhost:8080/"
    },
    "executionInfo": {
     "elapsed": 34,
     "status": "ok",
     "timestamp": 1718007245389,
     "user": {
      "displayName": "Sabbir Hossain",
      "userId": "13090968094455257108"
     },
     "user_tz": -360
    },
    "id": "Ne8VsEa2B8NU",
    "outputId": "7ca2825f-0ef8-4808-dd78-4eb964fdbbe4"
   },
   "outputs": [
    {
     "name": "stdout",
     "output_type": "stream",
     "text": [
      "[0]\n",
      "The person is not diabetic\n",
      "[0]\n",
      "The person is not diabetic\n",
      "[0]\n",
      "The person is not diabetic\n"
     ]
    },
    {
     "name": "stderr",
     "output_type": "stream",
     "text": [
      "H:\\Machine Learning Projects\\Multiple_desease_detection_final\\venv\\Lib\\site-packages\\sklearn\\base.py:493: UserWarning: X does not have valid feature names, but StandardScaler was fitted with feature names\n",
      "  warnings.warn(\n",
      "H:\\Machine Learning Projects\\Multiple_desease_detection_final\\venv\\Lib\\site-packages\\sklearn\\base.py:493: UserWarning: X does not have valid feature names, but StandardScaler was fitted with feature names\n",
      "  warnings.warn(\n",
      "H:\\Machine Learning Projects\\Multiple_desease_detection_final\\venv\\Lib\\site-packages\\sklearn\\base.py:493: UserWarning: X does not have valid feature names, but StandardScaler was fitted with feature names\n",
      "  warnings.warn(\n"
     ]
    }
   ],
   "source": [
    "sample_data_negative = [input_data1, input_data2, input_data3]\n",
    "sample_data_positive = [input_data4, input_data5, input_data6]\n",
    "\n",
    "for sample_data in sample_data_negative:\n",
    "  # changing the input_data to numpy array\n",
    "  input_data_as_numpy_array = np.asarray(sample_data)\n",
    "\n",
    "  # reshape the array as we are predicting for one instance\n",
    "  input_data_reshaped = input_data_as_numpy_array.reshape(1,-1)\n",
    "\n",
    "  prediction = model.predict(input_data_reshaped)\n",
    "  print(prediction)\n",
    "\n",
    "  if (prediction[0] == 0):\n",
    "    print('The person is not diabetic')\n",
    "  else:\n",
    "    print('The person is diabetic')"
   ]
  },
  {
   "cell_type": "code",
   "execution_count": 21,
   "metadata": {
    "executionInfo": {
     "elapsed": 28,
     "status": "ok",
     "timestamp": 1718007245389,
     "user": {
      "displayName": "Sabbir Hossain",
      "userId": "13090968094455257108"
     },
     "user_tz": -360
    },
    "id": "waGZijOwEset"
   },
   "outputs": [],
   "source": [
    "# loading the saved model\n",
    "loaded_model = pickle.load(open('diabetes_model_RandomForestClassifier.sav', 'rb'))"
   ]
  },
  {
   "cell_type": "code",
   "execution_count": 23,
   "metadata": {
    "colab": {
     "base_uri": "https://localhost:8080/"
    },
    "executionInfo": {
     "elapsed": 28,
     "status": "ok",
     "timestamp": 1718007245390,
     "user": {
      "displayName": "Sabbir Hossain",
      "userId": "13090968094455257108"
     },
     "user_tz": -360
    },
    "id": "RFdX2XJDCBEu",
    "outputId": "33f1e696-67d4-47c2-e095-d59cb5968fa6"
   },
   "outputs": [
    {
     "name": "stdout",
     "output_type": "stream",
     "text": [
      "[0]\n",
      "The person is not diabetic\n",
      "[0]\n",
      "The person is not diabetic\n",
      "[0]\n",
      "The person is not diabetic\n"
     ]
    },
    {
     "name": "stderr",
     "output_type": "stream",
     "text": [
      "H:\\Machine Learning Projects\\Multiple_desease_detection_final\\venv\\Lib\\site-packages\\sklearn\\base.py:493: UserWarning: X does not have valid feature names, but StandardScaler was fitted with feature names\n",
      "  warnings.warn(\n",
      "H:\\Machine Learning Projects\\Multiple_desease_detection_final\\venv\\Lib\\site-packages\\sklearn\\base.py:493: UserWarning: X does not have valid feature names, but StandardScaler was fitted with feature names\n",
      "  warnings.warn(\n",
      "H:\\Machine Learning Projects\\Multiple_desease_detection_final\\venv\\Lib\\site-packages\\sklearn\\base.py:493: UserWarning: X does not have valid feature names, but StandardScaler was fitted with feature names\n",
      "  warnings.warn(\n"
     ]
    }
   ],
   "source": [
    "sample_data_negative = [input_data1, input_data2, input_data3]\n",
    "sample_data_positive = [input_data4, input_data5, input_data6]\n",
    "\n",
    "for sample_data in sample_data_negative:\n",
    "  # changing the input_data to numpy array\n",
    "  input_data_as_numpy_array = np.asarray(sample_data)\n",
    "\n",
    "  # reshape the array as we are predicting for one instance\n",
    "  input_data_reshaped = input_data_as_numpy_array.reshape(1,-1)\n",
    "\n",
    "  prediction = loaded_model.predict(input_data_reshaped)\n",
    "  print(prediction)\n",
    "\n",
    "  if (prediction[0] == 0):\n",
    "    print('The person is not diabetic')\n",
    "\n",
    "  else:\n",
    "    print('The person is diabetic')"
   ]
  },
  {
   "cell_type": "code",
   "execution_count": 67,
   "metadata": {
    "executionInfo": {
     "elapsed": 23,
     "status": "ok",
     "timestamp": 1718007245390,
     "user": {
      "displayName": "Sabbir Hossain",
      "userId": "13090968094455257108"
     },
     "user_tz": -360
    },
    "id": "1UAzFnF8E7M1"
   },
   "outputs": [],
   "source": []
  }
 ],
 "metadata": {
  "colab": {
   "authorship_tag": "ABX9TyOhZd+FP4Ixpjjq+1v6QMiz",
   "provenance": []
  },
  "kernelspec": {
   "display_name": "Python 3 (ipykernel)",
   "language": "python",
   "name": "python3"
  },
  "language_info": {
   "codemirror_mode": {
    "name": "ipython",
    "version": 3
   },
   "file_extension": ".py",
   "mimetype": "text/x-python",
   "name": "python",
   "nbconvert_exporter": "python",
   "pygments_lexer": "ipython3",
   "version": "3.11.1"
  }
 },
 "nbformat": 4,
 "nbformat_minor": 4
}
